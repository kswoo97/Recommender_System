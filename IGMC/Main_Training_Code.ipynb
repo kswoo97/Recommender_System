{
 "cells": [
  {
   "cell_type": "markdown",
   "metadata": {},
   "source": [
    "# Training Process of IGMC (Inductive Graph based Matrix Completion)"
   ]
  },
  {
   "cell_type": "markdown",
   "metadata": {},
   "source": [
    "### 연세대학교 응용통계학과 DSL 추천시스템 2팀"
   ]
  },
  {
   "attachments": {},
   "cell_type": "markdown",
   "metadata": {},
   "source": [
    "Data : MovieLens-1M Dataset  \n",
    "Source Code : https://github.com/muhanzhang/IGMC  \n",
    "Implemented by : App.Stat. 김선우  \n",
    "Co-Worker : App.Stat. 김경훈 송재용 UIC 홍석현"
   ]
  },
  {
   "cell_type": "code",
   "execution_count": null,
   "metadata": {},
   "outputs": [],
   "source": [
    "import numpy as np\n",
    "import pandas as pd\n",
    "## 아래 얘는 따로 놀긴 하는데, 위에 애들이 반환하는 csr matrix로 갖고 논다\n",
    "\n",
    "from data_utils import *\n",
    "from preprocessing import *\n",
    "from util_functions import *\n",
    "from prediction_file import *\n",
    "from model import *\n",
    "from train import *\n",
    "from torch import torch\n",
    "import multiprocessing as mp"
   ]
  },
  {
   "cell_type": "code",
   "execution_count": null,
   "metadata": {},
   "outputs": [],
   "source": [
    "import torch\n",
    "import math\n",
    "import torch.nn as nn\n",
    "import torch.nn.functional as F\n",
    "from torch.nn import Linear, Conv1d\n",
    "from torch_geometric.nn import GCNConv, RGCNConv, global_sort_pool, global_add_pool\n",
    "from torch_geometric.utils import dropout_adj\n",
    "from util_functions import *\n",
    "import pdb\n",
    "import time"
   ]
  },
  {
   "cell_type": "markdown",
   "metadata": {},
   "source": [
    "### Step 1. Re-Ordering the index and values"
   ]
  },
  {
   "cell_type": "code",
   "execution_count": null,
   "metadata": {},
   "outputs": [],
   "source": [
    "data = pd.read_csv(\"C:\\\\Users\\\\kswoo\\\\OneDrive\\\\바탕 화면\\\\IGMC\\\\ml-1m\\\\new_ratings.csv\")\n",
    "data.head(10)"
   ]
  },
  {
   "cell_type": "code",
   "execution_count": null,
   "metadata": {},
   "outputs": [],
   "source": [
    "n_users, n_items, u_nodes, v_nodes, ratings, u_f, v_f, u_dict, v_dict = load_data(data)"
   ]
  },
  {
   "cell_type": "code",
   "execution_count": null,
   "metadata": {},
   "outputs": [],
   "source": [
    "print('Number of Users :', n_users) ; print('Number of Items :', n_items) "
   ]
  },
  {
   "cell_type": "code",
   "execution_count": null,
   "metadata": {},
   "outputs": [],
   "source": [
    "torch.manual_seed(971120)\n",
    "torch.cuda.manual_seed(971120)\n",
    "max_nodes_per_hop = 1000"
   ]
  },
  {
   "cell_type": "markdown",
   "metadata": {},
   "source": [
    "### Step 2. Generate Input Subgraph"
   ]
  },
  {
   "cell_type": "code",
   "execution_count": null,
   "metadata": {},
   "outputs": [],
   "source": [
    "## If there exists validation\n",
    "\n",
    "(csm, train_label, u_train_idx, v_train_idx, \n",
    "val_label, u_val_idx, v_val_idx, \n",
    "test_label, u_test_idx, v_test_idx, class_values) = create_trainvaltest_split(data, \n",
    "                                                                              validation = True, \n",
    "                                                                              testing = False)"
   ]
  },
  {
   "cell_type": "code",
   "execution_count": null,
   "metadata": {},
   "outputs": [],
   "source": [
    "## Validation does not exists..\n",
    "\n",
    "(csm, train_label, u_train_idx, v_train_idx, \n",
    "test_label, u_test_idx, v_test_idx, class_values) = create_trainvaltest_split(data, \n",
    "                                                                              validation = False, \n",
    "                                                                              testing = False)"
   ]
  },
  {
   "cell_type": "code",
   "execution_count": null,
   "metadata": {},
   "outputs": [],
   "source": [
    "trl = (u_train_idx, v_train_idx)\n",
    "train_graphs = MyDynamicDataset(root = None,  # 중요한거 아님\n",
    "                           A = csm,  # Adjacency Matrix를 넣어주자\n",
    "                           links = trl,  # Edge를\n",
    "                           labels = train_label, # 정답에 해당하는 답을 입력\n",
    "                           h = 1, # Hop 수 / 1이 적절\n",
    "                           sample_ratio = 1, # Sample Ratio \n",
    "                           max_nodes_per_hop = max_nodes_per_hop, # 필요없음\n",
    "                           u_features = None, # Feature가 있으면 넣지만 X\n",
    "                           v_features = None, # Feature가 있으면 넣지만 X\n",
    "                           class_values = class_values, # Rating이 몇개냐? # 필요없다\n",
    "                           max_num = None\n",
    "                          )"
   ]
  },
  {
   "cell_type": "code",
   "execution_count": null,
   "metadata": {},
   "outputs": [],
   "source": [
    "# If val Exists..\n",
    "\n",
    "\n",
    "trl = (u_val_idx, v_val_idx)\n",
    "val_graphs = MyDynamicDataset(root = None,  # 중요한거 아님\n",
    "                           A = csm,  # Adjacency Matrix를 넣어주자\n",
    "                           links = trl,  # Edge를\n",
    "                           labels = val_label, # 정답에 해당하는 답을 입력\n",
    "                           h = 1, # Hop 수 / 1이 적절\n",
    "                           sample_ratio = 1, # Sample Ratio \n",
    "                           max_nodes_per_hop = max_nodes_per_hop, # 필요없음\n",
    "                           u_features = None, # Feature가 있으면 넣지만 X\n",
    "                           v_features = None, # Feature가 있으면 넣지만 X\n",
    "                           class_values = class_values, # Rating이 몇개냐?\n",
    "                           max_num = None # 필요없다\n",
    "                          )"
   ]
  },
  {
   "cell_type": "code",
   "execution_count": null,
   "metadata": {},
   "outputs": [],
   "source": [
    "trl = (u_test_idx, v_test_idx)\n",
    "test_graphs = MyDynamicDataset(root = None,  # 중요한거 아님\n",
    "                           A = csm,  # Adjacency Matrix를 넣어주자\n",
    "                           links = trl,  # Edge를\n",
    "                           labels = test_label, # 정답에 해당하는 답을 입력\n",
    "                           h = 1, # Hop 수 / 1이 적절\n",
    "                           sample_ratio = 1, # Sample Ratio \n",
    "                           max_nodes_per_hop = None, # 필요없음\n",
    "                           u_features = None, # Feature가 있으면 넣지만 X\n",
    "                           v_features = None, # Feature가 있으면 넣지만 X\n",
    "                           class_values = class_values, # Rating이 몇개냐?\n",
    "                          )"
   ]
  },
  {
   "cell_type": "code",
   "execution_count": null,
   "metadata": {},
   "outputs": [],
   "source": [
    "num_relations = len(class_values)\n",
    "multiply_by = 1"
   ]
  },
  {
   "cell_type": "code",
   "execution_count": null,
   "metadata": {},
   "outputs": [],
   "source": [
    "print(train_graphs)\n",
    "print(test_graphs)"
   ]
  },
  {
   "cell_type": "markdown",
   "metadata": {},
   "source": [
    "### 3. Define Model and Start Training"
   ]
  },
  {
   "cell_type": "code",
   "execution_count": null,
   "metadata": {},
   "outputs": [],
   "source": [
    "model = IGMC(train_graphs, \n",
    "            latent_dim = [32, 32, 32, 32], # Layer Feature의 차원\n",
    "            num_relations = 5,\n",
    "            num_bases = 3, \n",
    "            regression = True, \n",
    "            adj_dropout = 0\n",
    "            )"
   ]
  },
  {
   "cell_type": "code",
   "execution_count": null,
   "metadata": {},
   "outputs": [],
   "source": [
    "total_params = sum(p.numel() for param in model.parameters() for p in param)\n",
    "print(f'학습할 parameter의 수는 {total_params}')"
   ]
  },
  {
   "cell_type": "code",
   "execution_count": null,
   "metadata": {},
   "outputs": [],
   "source": [
    "# Waring을 띄워주는 함수! 딱히 중요 X\n",
    "def warn_with_traceback(message, category, filename, lineno, file=None, line=None):\n",
    "\n",
    "    log = file if hasattr(file,'write') else sys.stderr\n",
    "    traceback.print_stack(file=log)\n",
    "    log.write(warnings.formatwarning(message, category, filename, lineno, line))\n",
    "\n",
    "# 중간중간 모델을 저장해주는 함수\n",
    "def logger (info, model, optimizer, directory, save_interval) :\n",
    "    epoch, train_loss, test_rmse = info['epoch'], info['train_loss'], info['test_rmse']\n",
    "    with open(os.path.join(directory, 'log.txt'), 'a') as f :\n",
    "        f.write(\"Epoch {}, train loss {:.4f}, test rmse {:.6f}\\n\".format(\n",
    "            epoch, train_loss, test_rmse))\n",
    "    if type(epoch) == int and epoch % save_interval == 0 :\n",
    "        print('Saving Model States')\n",
    "        model_name = os.path.join(directory, 'model_checkpoint{}.pth'.format(epoch))\n",
    "        optimizer_name = os.path.join(\n",
    "            directory, 'optimizer_checkpoint{}.pth'.format(epoch))\n",
    "        if model is not None :\n",
    "            torch.save(model.state_dict(), model_name)\n",
    "        if optimizer is not None :\n",
    "            torch.save(optimizer.state_dict(), optimizer_name)"
   ]
  },
  {
   "cell_type": "code",
   "execution_count": null,
   "metadata": {
    "scrolled": false
   },
   "outputs": [],
   "source": [
    "train_multiple_epochs(\n",
    "    train_graphs,\n",
    "    test_graphs,\n",
    "    model,\n",
    "    epochs = 50, \n",
    "    batch_size = 40, \n",
    "    lr = 0.001, \n",
    "    lr_decay_factor=0.1, \n",
    "    lr_decay_step_size=20, \n",
    "    weight_decay=0, \n",
    "    ARR=0.002, \n",
    "    test_freq=1, \n",
    "    logger=logger, \n",
    "    continue_from= None, \n",
    "    res_dir=\"C:\\\\Users\\\\kswoo\\\\OneDrive\\\\바탕 화면\\\\IGMC\\\\processing\\\\processing\\\\model_save\", \n",
    "    save_interval = 4, \n",
    "    multiple_gpu = False\n",
    ")"
   ]
  },
  {
   "cell_type": "markdown",
   "metadata": {},
   "source": [
    "바로 위의 res_dir라는 인자에 입력한 변수에 따라서 model과 optimizer가 저장됨."
   ]
  }
 ],
 "metadata": {
  "kernelspec": {
   "display_name": "sunwoo_env",
   "language": "python",
   "name": "sunwoo_env"
  },
  "language_info": {
   "codemirror_mode": {
    "name": "ipython",
    "version": 3
   },
   "file_extension": ".py",
   "mimetype": "text/x-python",
   "name": "python",
   "nbconvert_exporter": "python",
   "pygments_lexer": "ipython3",
   "version": "3.8.5"
  },
  "toc": {
   "base_numbering": 1,
   "nav_menu": {},
   "number_sections": true,
   "sideBar": true,
   "skip_h1_title": false,
   "title_cell": "Table of Contents",
   "title_sidebar": "Contents",
   "toc_cell": false,
   "toc_position": {},
   "toc_section_display": true,
   "toc_window_display": false
  }
 },
 "nbformat": 4,
 "nbformat_minor": 4
}
