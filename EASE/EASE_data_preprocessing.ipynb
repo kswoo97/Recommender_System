{
 "cells": [
  {
   "cell_type": "markdown",
   "metadata": {},
   "source": [
    "# Melon data preprocessing & Training"
   ]
  },
  {
   "cell_type": "markdown",
   "metadata": {},
   "source": [
    "### Yonsei App.Stat.\n",
    "### Sunwoo Kim"
   ]
  },
  {
   "cell_type": "markdown",
   "metadata": {},
   "source": [
    "------------"
   ]
  },
  {
   "cell_type": "markdown",
   "metadata": {},
   "source": [
    "EASE 모델이 item x item의 역행렬을 계산해야하므로, 제공된 모든 데이터를 사용하는 것은 다소 제한적입니다.  \n",
    "따라서 \n",
    "- json file을 연산 가능한 형태로 변형.  \n",
    "- playlist에 많이 등록된 노래만 샘플링하여, 일부 데이터로만 학습.  \n",
    "\n",
    "의 작업을 수행할 예정입니다."
   ]
  },
  {
   "cell_type": "markdown",
   "metadata": {},
   "source": [
    "## 1. Converting to CSV"
   ]
  },
  {
   "cell_type": "markdown",
   "metadata": {},
   "source": [
    "Read file"
   ]
  },
  {
   "cell_type": "code",
   "execution_count": 2,
   "metadata": {},
   "outputs": [],
   "source": [
    "path = \"C:\\\\Users\\\\kswoo\\\\OneDrive\\\\바탕 화면\\\\EASE\\\\\"\n",
    "with open(os.path.join(path, 'train.json'), 'rt',encoding='UTF8') as json_file:\n",
    "    data = json.load(json_file)"
   ]
  },
  {
   "cell_type": "markdown",
   "metadata": {},
   "source": [
    "Convert"
   ]
  },
  {
   "cell_type": "code",
   "execution_count": null,
   "metadata": {},
   "outputs": [],
   "source": [
    "train_data = pd.DataFrame([])\n",
    "train_tags = pd.DataFrame([])\n",
    "for i in tqdm(range(115071)) : \n",
    "    the_length = len(data[i]['songs'])\n",
    "    the_data = pd.DataFrame({'user_id' : np.repeat(data[i]['id'], the_length),\n",
    "                         'music_id' : data[i]['songs'], \n",
    "                         'playlist_title' : np.repeat(data[i]['plylst_title'], the_length), \n",
    "                         'likes' : np.repeat(data[i]['like_cnt'], the_length), \n",
    "                         'update_dates' : np.repeat(data[i]['updt_date'], the_length)})\n",
    "    the_data_2 = pd.DataFrame({'user_id' : [data[i]['id']], \n",
    "                               'tags' : [data[i]['tags']]})\n",
    "    train_data = pd.concat([train_data, the_data], axis = 0)\n",
    "    train_tags = pd.concat([train_tags, the_data_2])"
   ]
  },
  {
   "cell_type": "markdown",
   "metadata": {},
   "source": [
    "## 2. Remove duplicated songs"
   ]
  },
  {
   "cell_type": "markdown",
   "metadata": {},
   "source": [
    "다양한 플레이리스트에 동일한 노래가 들어간 경우가 많아, 데이터를 그대로 사용하면  \n",
    "중복된 노래가 추천됩니다. 따라서 노래 제목 & 아티스트가 동일한 경우 모두 중복 데이터로  \n",
    "처리하여 같은 음악 key로 맞춰줍니다."
   ]
  },
  {
   "cell_type": "code",
   "execution_count": null,
   "metadata": {},
   "outputs": [],
   "source": [
    "song_info = pd.read_csv('song_information.csv').iloc[:, 1:]\n",
    "print(train_data.head(3))\n",
    "song_info.head(3)\n",
    "\n",
    "song_name = song_info.song_name.values # 노래명\n",
    "artist_name = song_info.artist_name.values # 아티스트명\n",
    "needed_key = song_info.groupby( # 필요한 키로 정렬\n",
    "    by = ['song_name'], as_index = False).count()[\n",
    "    song_info.groupby(by = ['song_name'], as_index = False).count().song_id  > 1].song_name.values\n",
    "\n",
    "# 어떤 음악이 정렬의 대상인가?\n",
    "interest_keys = song_info[song_info['song_name'].isin(needed_key)].song_id.values "
   ]
  },
  {
   "cell_type": "markdown",
   "metadata": {},
   "source": [
    "중복을 제거합니다. (시간 오래 걸림)"
   ]
  },
  {
   "cell_type": "code",
   "execution_count": null,
   "metadata": {},
   "outputs": [],
   "source": [
    "same_songs = []\n",
    "finished = []\n",
    "to_be_deleted = []\n",
    "\n",
    "for i in tqdm(interest_keys) : \n",
    "    \n",
    "    if i in finished : \n",
    "        to_be_deleted.append(i)\n",
    "    \n",
    "    else : \n",
    "        song_ = song_name[i]\n",
    "        artist_ = artist_name[i]\n",
    "        comp_lists = np.where(song_name == song_)[0]\n",
    "        same_with = [i]\n",
    "        \n",
    "        if comp_lists.shape[0] == 1 : \n",
    "            None \n",
    "            \n",
    "        else : \n",
    "            keys_ = np.setdiff1d(np.where(song_name == song_)[0], [i])\n",
    "            for new_index in keys_ : \n",
    "\n",
    "                if artist_ == artist_name[new_index] : \n",
    "                    same_with.append(new_index)\n",
    "                    finished.append(new_index)\n",
    "        \n",
    "        same_songs.append(same_with)\n",
    "        finished.append(i)"
   ]
  },
  {
   "cell_type": "markdown",
   "metadata": {},
   "source": [
    "선정된 음악으로 최종적으로 새로운 데이터 생성"
   ]
  },
  {
   "cell_type": "code",
   "execution_count": null,
   "metadata": {},
   "outputs": [],
   "source": [
    "musics = train_data.music_id.values\n",
    "edit_musics = musics.copy()"
   ]
  },
  {
   "cell_type": "code",
   "execution_count": null,
   "metadata": {},
   "outputs": [],
   "source": [
    "for dup in tqdm(same_songs) : \n",
    "    if len(dup) < 2 : None\n",
    "    else : \n",
    "        for part in dup[1:] : \n",
    "            edit_musics[np.where(edit_musics == part)[0]] = dup[0]"
   ]
  },
  {
   "cell_type": "code",
   "execution_count": null,
   "metadata": {},
   "outputs": [],
   "source": [
    "# new_train.csv에 이제 새로운 노래들이 할당된 상태\n",
    "train_data['new_music_id'] = edit_musics\n",
    "new_train = train_data.drop(['update_dates'], axis = 1)\n",
    "new_train.to_csv('new_train.csv')"
   ]
  },
  {
   "cell_type": "markdown",
   "metadata": {},
   "source": [
    "## 3. Music Sampling"
   ]
  },
  {
   "cell_type": "markdown",
   "metadata": {},
   "source": [
    "현실적인 제약으로 인해 모든 데이터를 사용하는 것은 불가능.  \n",
    "따라서 sampling을 시행하는데, \n",
    "- 플레이리스트에 3번 이상 수록된 곡 (너무 minor한 곡은 제외)\n",
    "- 음악을 3개 이상 수록하고 있는 플레이리스트 (너무 수록곡이 적은 플레이리스트는 제외)"
   ]
  },
  {
   "cell_type": "code",
   "execution_count": null,
   "metadata": {},
   "outputs": [],
   "source": [
    "new_train = pd.read_csv('new_train.csv').iloc[:, 1:]"
   ]
  },
  {
   "cell_type": "markdown",
   "metadata": {},
   "source": [
    "일부 데이터만 추출하는 함수 정의"
   ]
  },
  {
   "cell_type": "code",
   "execution_count": null,
   "metadata": {},
   "outputs": [],
   "source": [
    "def item_extractor(x, user_t, item_t) : \n",
    "    \n",
    "    index_checking = x.groupby(by = ['new_music_id'], as_index = False).count()\n",
    "    new_index = index_checking[index_checking.user_id >= item_t].new_music_id.values\n",
    "    first = x[x['new_music_id'].isin(new_index)]\n",
    "    \n",
    "    index_checking2 = first.groupby(by = ['user_id'], as_index = False).count()\n",
    "    new_2 = index_checking2[index_checking2.values >= user_t].user_id.values\n",
    "\n",
    "    return first[first['user_id'].isin(new_2)]"
   ]
  },
  {
   "cell_type": "code",
   "execution_count": null,
   "metadata": {},
   "outputs": [],
   "source": [
    "# final_x.csv라는 이름의 최종 학습에 사용할 데이터 생성\n",
    "new_x = item_extractor(new_train, 3, 3)\n",
    "new_x.to_csv('final_x.csv', index = False)"
   ]
  },
  {
   "cell_type": "markdown",
   "metadata": {},
   "source": [
    "## 4. Training"
   ]
  },
  {
   "cell_type": "markdown",
   "metadata": {},
   "source": [
    "Utility matrix **X**를 생성"
   ]
  },
  {
   "cell_type": "code",
   "execution_count": null,
   "metadata": {},
   "outputs": [],
   "source": [
    "data = pd.read_csv('final_x.csv')\n",
    "\n",
    "user_enc = LabelEncoder()\n",
    "item_enc = LabelEncoder()\n",
    "\n",
    "user_index = user_enc.fit_transform(data.user_id.values).astype(int)\n",
    "item_index = item_enc.fit_transform(data.new_music_id.values).astype(int)\n",
    "\n",
    "X = csr_matrix((np.ones(user_index.shape[0]).astype(int), (user_index, item_index)))"
   ]
  },
  {
   "cell_type": "markdown",
   "metadata": {},
   "source": [
    "**G = $X^{T}X$**"
   ]
  },
  {
   "cell_type": "code",
   "execution_count": null,
   "metadata": {},
   "outputs": [],
   "source": [
    "G = X.T.dot(X).toarray().astype(float)\n",
    "diagIndices = np.diag_indices(G.shape[0])\n",
    "G[diagIndices] += 0.5 # Lambda"
   ]
  },
  {
   "cell_type": "markdown",
   "metadata": {},
   "source": [
    "**$\\hat{P} = (X^{T}X + \\lambda I)^{-1} $**  "
   ]
  },
  {
   "cell_type": "code",
   "execution_count": 5,
   "metadata": {},
   "outputs": [
    {
     "data": {
      "image/png": "[encoded data removed]",
      "text/plain": [
       "<Figure size 432x288 with 1 Axes>"
      ]
     },
     "metadata": {
      "needs_background": "light"
     },
     "output_type": "display_data"
    }
   ],
   "source": [
    "import cv2\n",
    "import matplotlib.pyplot as plt\n",
    "image = cv2.imread('beta.PNG')\n",
    "plt.imshow(image)\n",
    "plt.show()"
   ]
  },
  {
   "cell_type": "code",
   "execution_count": null,
   "metadata": {},
   "outputs": [],
   "source": [
    "P = np.linalg.inv(G)\n",
    "print('First Step Done!')\n",
    "B = P / (-np.diag(P))\n",
    "print('Second Step Done!')\n",
    "B[diagIndices] = 0"
   ]
  },
  {
   "cell_type": "markdown",
   "metadata": {},
   "source": [
    "아이템 유사도가 학습된 B matrix가 추정 완료됨.   \n",
    "B matrix와 각 아이템 key를 저장함."
   ]
  },
  {
   "cell_type": "code",
   "execution_count": null,
   "metadata": {},
   "outputs": [],
   "source": [
    "np.save('B_mat', B)\n",
    "np.save('user_classes.npy', user_enc.classes_)\n",
    "np.save('item_classes.npy', item_enc.classes_)"
   ]
  }
 ],
 "metadata": {
  "kernelspec": {
   "display_name": "sunwoo_env",
   "language": "python",
   "name": "sunwoo_env"
  },
  "language_info": {
   "codemirror_mode": {
    "name": "ipython",
    "version": 3
   },
   "file_extension": ".py",
   "mimetype": "text/x-python",
   "name": "python",
   "nbconvert_exporter": "python",
   "pygments_lexer": "ipython3",
   "version": "3.8.5"
  },
  "toc": {
   "base_numbering": 1,
   "nav_menu": {},
   "number_sections": false,
   "sideBar": true,
   "skip_h1_title": false,
   "title_cell": "Table of Contents",
   "title_sidebar": "Contents",
   "toc_cell": false,
   "toc_position": {
    "height": "calc(100% - 180px)",
    "left": "10px",
    "top": "150px",
    "width": "480px"
   },
   "toc_section_display": true,
   "toc_window_display": true
  }
 },
 "nbformat": 4,
 "nbformat_minor": 4
}
