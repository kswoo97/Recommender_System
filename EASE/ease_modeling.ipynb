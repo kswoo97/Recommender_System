{
 "cells": [
  {
   "cell_type": "code",
   "execution_count": 2,
   "metadata": {},
   "outputs": [],
   "source": [
    "import json\n",
    "import numpy as np\n",
    "import pandas as pd\n",
    "import os\n",
    "from tqdm import tqdm\n",
    "import sys\n",
    "\n",
    "from sklearn.preprocessing import LabelEncoder\n",
    "from scipy.sparse import csr_matrix\n",
    "import torch\n",
    "\n",
    "cuda = torch.device('cuda')\n",
    "device = 'cuda'"
   ]
  },
  {
   "cell_type": "markdown",
   "metadata": {
    "heading_collapsed": true
   },
   "source": [
    "## 0. Producing Duplicated Songs and preprocessing"
   ]
  },
  {
   "cell_type": "code",
   "execution_count": 6,
   "metadata": {
    "hidden": true
   },
   "outputs": [],
   "source": [
    "path = \"C:\\\\Users\\\\kswoo\\\\OneDrive\\\\바탕 화면\\\\EASE\\\\\""
   ]
  },
  {
   "cell_type": "code",
   "execution_count": 7,
   "metadata": {
    "hidden": true
   },
   "outputs": [],
   "source": [
    "with open(os.path.join(path, 'train.json'), 'rt',encoding='UTF8') as json_file:\n",
    "    data = json.load(json_file)"
   ]
  },
  {
   "cell_type": "code",
   "execution_count": 8,
   "metadata": {
    "hidden": true
   },
   "outputs": [
    {
     "name": "stderr",
     "output_type": "stream",
     "text": [
      "100%|████████████████████████████████████████████████████████████████████████████| 15071/15071 [10:10<00:00, 24.70it/s]\n"
     ]
    }
   ],
   "source": [
    "train_data = pd.DataFrame([])\n",
    "train_tags = pd.DataFrame([])\n",
    "for i in tqdm(range(100000, 115071)) : \n",
    "    the_length = len(data[i]['songs'])\n",
    "    the_data = pd.DataFrame({'user_id' : np.repeat(data[i]['id'], the_length),\n",
    "                         'music_id' : data[i]['songs'], \n",
    "                         'playlist_title' : np.repeat(data[i]['plylst_title'], the_length), \n",
    "                         'likes' : np.repeat(data[i]['like_cnt'], the_length), \n",
    "                         'update_dates' : np.repeat(data[i]['updt_date'], the_length)})\n",
    "    the_data_2 = pd.DataFrame({'user_id' : [data[i]['id']], \n",
    "                               'tags' : [data[i]['tags']]})\n",
    "    train_data = pd.concat([train_data, the_data], axis = 0)\n",
    "    train_tags = pd.concat([train_tags, the_data_2])"
   ]
  },
  {
   "cell_type": "code",
   "execution_count": 9,
   "metadata": {
    "hidden": true
   },
   "outputs": [
    {
     "name": "stdout",
     "output_type": "stream",
     "text": [
      "   user_id  music_id playlist_title  likes             update_dates\n",
      "0   124325    112418          스탠리비치      7  2015-10-19 23:37:34.000\n",
      "1   124325    363240          스탠리비치      7  2015-10-19 23:37:34.000\n",
      "2   124325     75991          스탠리비치      7  2015-10-19 23:37:34.000\n"
     ]
    },
    {
     "data": {
      "text/html": [
       "<div>\n",
       "<style scoped>\n",
       "    .dataframe tbody tr th:only-of-type {\n",
       "        vertical-align: middle;\n",
       "    }\n",
       "\n",
       "    .dataframe tbody tr th {\n",
       "        vertical-align: top;\n",
       "    }\n",
       "\n",
       "    .dataframe thead th {\n",
       "        text-align: right;\n",
       "    }\n",
       "</style>\n",
       "<table border=\"1\" class=\"dataframe\">\n",
       "  <thead>\n",
       "    <tr style=\"text-align: right;\">\n",
       "      <th></th>\n",
       "      <th>song_id</th>\n",
       "      <th>song_name</th>\n",
       "      <th>artist_id</th>\n",
       "      <th>artist_name</th>\n",
       "      <th>song_genre</th>\n",
       "      <th>album_name</th>\n",
       "      <th>album_id</th>\n",
       "      <th>issue_date</th>\n",
       "    </tr>\n",
       "  </thead>\n",
       "  <tbody>\n",
       "    <tr>\n",
       "      <th>0</th>\n",
       "      <td>0</td>\n",
       "      <td>Feelings</td>\n",
       "      <td>[2727]</td>\n",
       "      <td>Various Artists</td>\n",
       "      <td>['GN0900']</td>\n",
       "      <td>불후의 명곡 - 7080 추억의 얄개시대 팝송베스트</td>\n",
       "      <td>2255639</td>\n",
       "      <td>20140512</td>\n",
       "    </tr>\n",
       "    <tr>\n",
       "      <th>1</th>\n",
       "      <td>1</td>\n",
       "      <td>Bach : Partita No. 4 In D Major, BWV 828 - II....</td>\n",
       "      <td>[29966]</td>\n",
       "      <td>Murray Perahia</td>\n",
       "      <td>['GN1600']</td>\n",
       "      <td>Bach : Partitas Nos. 2, 3 &amp; 4</td>\n",
       "      <td>376431</td>\n",
       "      <td>20080421</td>\n",
       "    </tr>\n",
       "    <tr>\n",
       "      <th>2</th>\n",
       "      <td>2</td>\n",
       "      <td>Solsbury Hill (Remastered 2002)</td>\n",
       "      <td>[3361]</td>\n",
       "      <td>Peter Gabriel</td>\n",
       "      <td>['GN0900']</td>\n",
       "      <td>Hit</td>\n",
       "      <td>4698747</td>\n",
       "      <td>20180518</td>\n",
       "    </tr>\n",
       "  </tbody>\n",
       "</table>\n",
       "</div>"
      ],
      "text/plain": [
       "   song_id                                          song_name artist_id  \\\n",
       "0        0                                           Feelings    [2727]   \n",
       "1        1  Bach : Partita No. 4 In D Major, BWV 828 - II....   [29966]   \n",
       "2        2                    Solsbury Hill (Remastered 2002)    [3361]   \n",
       "\n",
       "       artist_name  song_genre                     album_name  album_id  \\\n",
       "0  Various Artists  ['GN0900']   불후의 명곡 - 7080 추억의 얄개시대 팝송베스트   2255639   \n",
       "1   Murray Perahia  ['GN1600']  Bach : Partitas Nos. 2, 3 & 4    376431   \n",
       "2    Peter Gabriel  ['GN0900']                            Hit   4698747   \n",
       "\n",
       "   issue_date  \n",
       "0    20140512  \n",
       "1    20080421  \n",
       "2    20180518  "
      ]
     },
     "execution_count": 9,
     "metadata": {},
     "output_type": "execute_result"
    }
   ],
   "source": [
    "song_info = pd.read_csv('song_information.csv').iloc[:, 1:]\n",
    "print(train_data.head(3))\n",
    "song_info.head(3)"
   ]
  },
  {
   "cell_type": "code",
   "execution_count": 20,
   "metadata": {
    "hidden": true
   },
   "outputs": [],
   "source": [
    "song_name = song_info.song_name.values\n",
    "artist_name = song_info.artist_name.values\n",
    "needed_key = song_info.groupby(by = ['song_name'], as_index = False).count()[song_info.groupby(by = ['song_name'], as_index = False).count().song_id  > 1].song_name.values"
   ]
  },
  {
   "cell_type": "code",
   "execution_count": 25,
   "metadata": {
    "hidden": true
   },
   "outputs": [
    {
     "data": {
      "text/plain": [
       "array([     0,      2,      4, ..., 707985, 707986, 707987], dtype=int64)"
      ]
     },
     "execution_count": 25,
     "metadata": {},
     "output_type": "execute_result"
    }
   ],
   "source": [
    "interest_keys = song_info[song_info['song_name'].isin(needed_key)].song_id.values\n",
    "interest_keys"
   ]
  },
  {
   "cell_type": "code",
   "execution_count": 33,
   "metadata": {
    "hidden": true
   },
   "outputs": [
    {
     "name": "stderr",
     "output_type": "stream",
     "text": [
      "100%|████████████████████████████████████████████████████████████████████████| 324133/324133 [1:38:21<00:00, 54.93it/s]\n"
     ]
    }
   ],
   "source": [
    "same_songs = []\n",
    "finished = []\n",
    "to_be_deleted = []\n",
    "\n",
    "for i in tqdm(interest_keys) : \n",
    "    \n",
    "    if i in finished : \n",
    "        to_be_deleted.append(i)\n",
    "    \n",
    "    else : \n",
    "        song_ = song_name[i]\n",
    "        artist_ = artist_name[i]\n",
    "        comp_lists = np.where(song_name == song_)[0]\n",
    "        same_with = [i]\n",
    "        \n",
    "        if comp_lists.shape[0] == 1 : \n",
    "            None \n",
    "            \n",
    "        else : \n",
    "            keys_ = np.setdiff1d(np.where(song_name == song_)[0], [i])\n",
    "            for new_index in keys_ : \n",
    "\n",
    "                if artist_ == artist_name[new_index] : \n",
    "\n",
    "                    same_with.append(new_index)\n",
    "                    finished.append(new_index)\n",
    "\n",
    "                else : None\n",
    "            \n",
    "    \n",
    "        same_songs.append(same_with)\n",
    "        finished.append(i)"
   ]
  },
  {
   "cell_type": "code",
   "execution_count": 35,
   "metadata": {
    "hidden": true
   },
   "outputs": [
    {
     "data": {
      "text/html": [
       "<div>\n",
       "<style scoped>\n",
       "    .dataframe tbody tr th:only-of-type {\n",
       "        vertical-align: middle;\n",
       "    }\n",
       "\n",
       "    .dataframe tbody tr th {\n",
       "        vertical-align: top;\n",
       "    }\n",
       "\n",
       "    .dataframe thead th {\n",
       "        text-align: right;\n",
       "    }\n",
       "</style>\n",
       "<table border=\"1\" class=\"dataframe\">\n",
       "  <thead>\n",
       "    <tr style=\"text-align: right;\">\n",
       "      <th></th>\n",
       "      <th>song_id</th>\n",
       "      <th>song_name</th>\n",
       "      <th>artist_id</th>\n",
       "      <th>artist_name</th>\n",
       "      <th>song_genre</th>\n",
       "      <th>album_name</th>\n",
       "      <th>album_id</th>\n",
       "      <th>issue_date</th>\n",
       "    </tr>\n",
       "  </thead>\n",
       "  <tbody>\n",
       "    <tr>\n",
       "      <th>0</th>\n",
       "      <td>0</td>\n",
       "      <td>Feelings</td>\n",
       "      <td>[2727]</td>\n",
       "      <td>Various Artists</td>\n",
       "      <td>['GN0900']</td>\n",
       "      <td>불후의 명곡 - 7080 추억의 얄개시대 팝송베스트</td>\n",
       "      <td>2255639</td>\n",
       "      <td>20140512</td>\n",
       "    </tr>\n",
       "    <tr>\n",
       "      <th>261506</th>\n",
       "      <td>261506</td>\n",
       "      <td>Feelings</td>\n",
       "      <td>[2727]</td>\n",
       "      <td>Various Artists</td>\n",
       "      <td>['GN0900']</td>\n",
       "      <td>응답하라 7080 (추억의 빈티지 팝송여행)</td>\n",
       "      <td>2228365</td>\n",
       "      <td>20140122</td>\n",
       "    </tr>\n",
       "  </tbody>\n",
       "</table>\n",
       "</div>"
      ],
      "text/plain": [
       "        song_id song_name artist_id      artist_name  song_genre  \\\n",
       "0             0  Feelings    [2727]  Various Artists  ['GN0900']   \n",
       "261506   261506  Feelings    [2727]  Various Artists  ['GN0900']   \n",
       "\n",
       "                          album_name  album_id  issue_date  \n",
       "0       불후의 명곡 - 7080 추억의 얄개시대 팝송베스트   2255639    20140512  \n",
       "261506      응답하라 7080 (추억의 빈티지 팝송여행)   2228365    20140122  "
      ]
     },
     "execution_count": 35,
     "metadata": {},
     "output_type": "execute_result"
    }
   ],
   "source": [
    "#song_info[song_info['song_name'] == 'Walk Alone']\n",
    "song_info.iloc[[0, 261506], :]"
   ]
  },
  {
   "cell_type": "code",
   "execution_count": 36,
   "metadata": {
    "hidden": true
   },
   "outputs": [
    {
     "data": {
      "text/plain": [
       "array([112418, 363240,  75991, ..., 640239,  13759, 154078], dtype=int64)"
      ]
     },
     "execution_count": 36,
     "metadata": {},
     "output_type": "execute_result"
    }
   ],
   "source": [
    "musics = train_data.music_id.values\n",
    "edit_musics = musics.copy()\n",
    "edit_musics"
   ]
  },
  {
   "cell_type": "code",
   "execution_count": 37,
   "metadata": {
    "hidden": true
   },
   "outputs": [
    {
     "name": "stderr",
     "output_type": "stream",
     "text": [
      "100%|████████████████████████████████████████████████████████████████████████| 238552/238552 [00:34<00:00, 6953.44it/s]\n"
     ]
    }
   ],
   "source": [
    "for dup in tqdm(same_songs) : \n",
    "    if len(dup) < 2 : None\n",
    "    else : \n",
    "        for part in dup[1:] : \n",
    "            edit_musics[np.where(edit_musics == part)[0]] = dup[0]"
   ]
  },
  {
   "cell_type": "code",
   "execution_count": 38,
   "metadata": {
    "hidden": true
   },
   "outputs": [],
   "source": [
    "train_data['new_music_id'] = edit_musics\n",
    "new_train = train_data.drop(['update_dates'], axis = 1)\n",
    "new_train.to_csv('new_train.csv')"
   ]
  },
  {
   "cell_type": "markdown",
   "metadata": {
    "heading_collapsed": true
   },
   "source": [
    "## 1. 거르기"
   ]
  },
  {
   "cell_type": "code",
   "execution_count": 68,
   "metadata": {
    "hidden": true
   },
   "outputs": [
    {
     "name": "stdout",
     "output_type": "stream",
     "text": [
      "(687187, 5)\n"
     ]
    },
    {
     "data": {
      "text/html": [
       "<div>\n",
       "<style scoped>\n",
       "    .dataframe tbody tr th:only-of-type {\n",
       "        vertical-align: middle;\n",
       "    }\n",
       "\n",
       "    .dataframe tbody tr th {\n",
       "        vertical-align: top;\n",
       "    }\n",
       "\n",
       "    .dataframe thead th {\n",
       "        text-align: right;\n",
       "    }\n",
       "</style>\n",
       "<table border=\"1\" class=\"dataframe\">\n",
       "  <thead>\n",
       "    <tr style=\"text-align: right;\">\n",
       "      <th></th>\n",
       "      <th>user_id</th>\n",
       "      <th>music_id</th>\n",
       "      <th>playlist_title</th>\n",
       "      <th>likes</th>\n",
       "      <th>new_music_id</th>\n",
       "    </tr>\n",
       "  </thead>\n",
       "  <tbody>\n",
       "    <tr>\n",
       "      <th>0</th>\n",
       "      <td>124325</td>\n",
       "      <td>112418</td>\n",
       "      <td>스탠리비치</td>\n",
       "      <td>7</td>\n",
       "      <td>112418</td>\n",
       "    </tr>\n",
       "    <tr>\n",
       "      <th>1</th>\n",
       "      <td>124325</td>\n",
       "      <td>363240</td>\n",
       "      <td>스탠리비치</td>\n",
       "      <td>7</td>\n",
       "      <td>363240</td>\n",
       "    </tr>\n",
       "    <tr>\n",
       "      <th>2</th>\n",
       "      <td>124325</td>\n",
       "      <td>75991</td>\n",
       "      <td>스탠리비치</td>\n",
       "      <td>7</td>\n",
       "      <td>75991</td>\n",
       "    </tr>\n",
       "  </tbody>\n",
       "</table>\n",
       "</div>"
      ],
      "text/plain": [
       "   user_id  music_id playlist_title  likes  new_music_id\n",
       "0   124325    112418          스탠리비치      7        112418\n",
       "1   124325    363240          스탠리비치      7        363240\n",
       "2   124325     75991          스탠리비치      7         75991"
      ]
     },
     "execution_count": 68,
     "metadata": {},
     "output_type": "execute_result"
    }
   ],
   "source": [
    "new_train = pd.read_csv('new_train.csv').iloc[:, 1:]\n",
    "print(new_train.shape)\n",
    "new_train.head(3)"
   ]
  },
  {
   "cell_type": "code",
   "execution_count": 69,
   "metadata": {
    "hidden": true
   },
   "outputs": [],
   "source": [
    "def item_extractor(x, user_t, item_t) : \n",
    "    \n",
    "    index_checking = x.groupby(by = ['new_music_id'], as_index = False).count()\n",
    "    new_index = index_checking[index_checking.user_id >= item_t].new_music_id.values\n",
    "    first = x[x['new_music_id'].isin(new_index)]\n",
    "    \n",
    "    index_checking2 = first.groupby(by = ['user_id'], as_index = False).count()\n",
    "    new_2 = index_checking2[index_checking2.values >= user_t].user_id.values\n",
    "\n",
    "    return first[first['user_id'].isin(new_2)]"
   ]
  },
  {
   "cell_type": "code",
   "execution_count": 70,
   "metadata": {
    "hidden": true
   },
   "outputs": [],
   "source": [
    "new_x = item_extractor(new_train, 3, 3)\n",
    "new_x.to_csv('final_x.csv', index = False)"
   ]
  },
  {
   "cell_type": "markdown",
   "metadata": {
    "heading_collapsed": true
   },
   "source": [
    "## 2. 진짜 학습 시작"
   ]
  },
  {
   "cell_type": "code",
   "execution_count": 3,
   "metadata": {
    "hidden": true
   },
   "outputs": [
    {
     "name": "stdout",
     "output_type": "stream",
     "text": [
      "(521087, 5)\n"
     ]
    },
    {
     "data": {
      "text/html": [
       "<div>\n",
       "<style scoped>\n",
       "    .dataframe tbody tr th:only-of-type {\n",
       "        vertical-align: middle;\n",
       "    }\n",
       "\n",
       "    .dataframe tbody tr th {\n",
       "        vertical-align: top;\n",
       "    }\n",
       "\n",
       "    .dataframe thead th {\n",
       "        text-align: right;\n",
       "    }\n",
       "</style>\n",
       "<table border=\"1\" class=\"dataframe\">\n",
       "  <thead>\n",
       "    <tr style=\"text-align: right;\">\n",
       "      <th></th>\n",
       "      <th>user_id</th>\n",
       "      <th>music_id</th>\n",
       "      <th>playlist_title</th>\n",
       "      <th>likes</th>\n",
       "      <th>new_music_id</th>\n",
       "    </tr>\n",
       "  </thead>\n",
       "  <tbody>\n",
       "    <tr>\n",
       "      <th>0</th>\n",
       "      <td>124325</td>\n",
       "      <td>112418</td>\n",
       "      <td>스탠리비치</td>\n",
       "      <td>7</td>\n",
       "      <td>112418</td>\n",
       "    </tr>\n",
       "    <tr>\n",
       "      <th>1</th>\n",
       "      <td>124325</td>\n",
       "      <td>363240</td>\n",
       "      <td>스탠리비치</td>\n",
       "      <td>7</td>\n",
       "      <td>363240</td>\n",
       "    </tr>\n",
       "    <tr>\n",
       "      <th>2</th>\n",
       "      <td>124325</td>\n",
       "      <td>75991</td>\n",
       "      <td>스탠리비치</td>\n",
       "      <td>7</td>\n",
       "      <td>75991</td>\n",
       "    </tr>\n",
       "  </tbody>\n",
       "</table>\n",
       "</div>"
      ],
      "text/plain": [
       "   user_id  music_id playlist_title  likes  new_music_id\n",
       "0   124325    112418          스탠리비치      7        112418\n",
       "1   124325    363240          스탠리비치      7        363240\n",
       "2   124325     75991          스탠리비치      7         75991"
      ]
     },
     "execution_count": 3,
     "metadata": {},
     "output_type": "execute_result"
    }
   ],
   "source": [
    "data = pd.read_csv('final_x.csv')\n",
    "print(data.shape)\n",
    "data.head(3)"
   ]
  },
  {
   "cell_type": "code",
   "execution_count": 4,
   "metadata": {
    "hidden": true
   },
   "outputs": [],
   "source": [
    "user_enc = LabelEncoder()\n",
    "item_enc = LabelEncoder()\n",
    "\n",
    "user_index = user_enc.fit_transform(data.user_id.values).astype(int)\n",
    "item_index = item_enc.fit_transform(data.new_music_id.values).astype(int)"
   ]
  },
  {
   "cell_type": "code",
   "execution_count": 5,
   "metadata": {
    "hidden": true
   },
   "outputs": [
    {
     "name": "stdout",
     "output_type": "stream",
     "text": [
      "[11999 11999 11999 ...  9692  9692  9692]\n",
      "[10840 29550  7593 ...  1269  5301 15735]\n",
      "(14725,)\n",
      "(48652,)\n"
     ]
    }
   ],
   "source": [
    "print(user_index)\n",
    "print(item_index)\n",
    "print(np.unique(user_index).shape)\n",
    "print(np.unique(item_index).shape)"
   ]
  },
  {
   "cell_type": "code",
   "execution_count": 6,
   "metadata": {
    "hidden": true
   },
   "outputs": [
    {
     "data": {
      "text/plain": [
       "tensor([[11999, 11999, 11999,  ...,  9692,  9692,  9692],\n",
       "        [10840, 29550,  7593,  ...,  1269,  5301, 15735]])"
      ]
     },
     "execution_count": 6,
     "metadata": {},
     "output_type": "execute_result"
    }
   ],
   "source": [
    "indexs = torch.LongTensor([user_index, item_index])\n",
    "indexs"
   ]
  },
  {
   "cell_type": "code",
   "execution_count": 7,
   "metadata": {
    "hidden": true
   },
   "outputs": [],
   "source": [
    "#For the Normal CSR Matrix\n",
    "X = csr_matrix((np.ones(user_index.shape[0]).astype(int), (user_index, item_index)))"
   ]
  },
  {
   "cell_type": "code",
   "execution_count": 7,
   "metadata": {
    "hidden": true
   },
   "outputs": [],
   "source": [
    "# For torch\n",
    "#X = torch.sparse.FloatTensor(indexs, \n",
    "#                             torch.ones(user_index.shape[0]), \n",
    "#                            torch.Size([np.unique(user_index).shape[0], np.unique(item_index).shape[0]]))"
   ]
  },
  {
   "cell_type": "code",
   "execution_count": 8,
   "metadata": {
    "hidden": true
   },
   "outputs": [
    {
     "data": {
      "text/plain": [
       "array([[ 5.,  0.,  0., ...,  0.,  0.,  0.],\n",
       "       [ 0., 20.,  0., ...,  0.,  0.,  0.],\n",
       "       [ 0.,  0.,  4., ...,  0.,  0.,  0.],\n",
       "       ...,\n",
       "       [ 0.,  0.,  0., ...,  3.,  0.,  0.],\n",
       "       [ 0.,  0.,  0., ...,  0.,  3.,  0.],\n",
       "       [ 0.,  0.,  0., ...,  0.,  0.,  3.]])"
      ]
     },
     "execution_count": 8,
     "metadata": {},
     "output_type": "execute_result"
    }
   ],
   "source": [
    "G = X.T.dot(X).toarray().astype(float)\n",
    "G"
   ]
  },
  {
   "cell_type": "code",
   "execution_count": 9,
   "metadata": {
    "hidden": true
   },
   "outputs": [],
   "source": [
    "diagIndices = np.diag_indices(G.shape[0])\n",
    "G[diagIndices] += 0.5 # Lambda"
   ]
  },
  {
   "cell_type": "code",
   "execution_count": 10,
   "metadata": {
    "hidden": true
   },
   "outputs": [
    {
     "name": "stdout",
     "output_type": "stream",
     "text": [
      "First Step Done!\n",
      "Second Step Done!\n"
     ]
    }
   ],
   "source": [
    "P = np.linalg.inv(G)\n",
    "print('First Step Done!')\n",
    "B = P / (-np.diag(P))\n",
    "print('Second Step Done!')\n",
    "B[diagIndices] = 0"
   ]
  },
  {
   "cell_type": "code",
   "execution_count": 11,
   "metadata": {
    "hidden": true
   },
   "outputs": [],
   "source": [
    "np.save('B_mat', B)"
   ]
  },
  {
   "cell_type": "code",
   "execution_count": 12,
   "metadata": {
    "hidden": true
   },
   "outputs": [],
   "source": [
    "np.save('user_classes.npy', user_enc.classes_)\n",
    "np.save('item_classes.npy', item_enc.classes_)"
   ]
  },
  {
   "cell_type": "markdown",
   "metadata": {
    "heading_collapsed": true
   },
   "source": [
    "## 3. Getting the Trained Value"
   ]
  },
  {
   "cell_type": "code",
   "execution_count": 3,
   "metadata": {
    "hidden": true
   },
   "outputs": [],
   "source": [
    "song_info = pd.read_csv('song_information.csv').iloc[:, 1:]\n",
    "B = np.load('B_mat.npy')\n",
    "user_enc = np.load('user_classes.npy')\n",
    "item_enc = np.load('item_classes.npy')"
   ]
  },
  {
   "cell_type": "code",
   "execution_count": 5,
   "metadata": {
    "hidden": true
   },
   "outputs": [
    {
     "data": {
      "text/plain": [
       "(array([3958], dtype=int64),)"
      ]
     },
     "execution_count": 5,
     "metadata": {},
     "output_type": "execute_result"
    }
   ],
   "source": [
    "np.where(item_enc == 37748)"
   ]
  },
  {
   "cell_type": "code",
   "execution_count": 6,
   "metadata": {
    "hidden": true
   },
   "outputs": [],
   "source": [
    "from musivisor import *"
   ]
  },
  {
   "cell_type": "code",
   "execution_count": 7,
   "metadata": {
    "hidden": true
   },
   "outputs": [
    {
     "name": "stdout",
     "output_type": "stream",
     "text": [
      "안녕하세요 김선우님 당신만을 위한 음악추천. Musivisor입니다.\n",
      "지금부터 Musivisor 사용 방법을 설명드리겠습니다.\n",
      "먼저, Musivisor는 4GB의 램을 필요로 합니다. 램이 부족하신경우, 다른 프로그램을 종료하여 충분한 램 공간을 확보해주세요.\n",
      "1. 원하시는 곡 개수를 넣고 input_generator 함수를 시행해주세요. 이어 곡의 이름을 넣고 실행하시면, 가이드라인이 나옵니다.\n",
      "2. input_generator 의 시행이 종료되면, prediction_generator를 시행해주세요!\n"
     ]
    }
   ],
   "source": [
    "model = Musivisor('김선우', B, song_info, item_enc)"
   ]
  },
  {
   "cell_type": "code",
   "execution_count": 8,
   "metadata": {
    "hidden": true
   },
   "outputs": [
    {
     "name": "stdout",
     "output_type": "stream",
     "text": [
      "너였다면\n"
     ]
    },
    {
     "data": {
      "text/html": [
       "<table border=\"1\" class=\"dataframe\">\n",
       "  <thead>\n",
       "    <tr style=\"text-align: right;\">\n",
       "      <th></th>\n",
       "      <th>Unnamed: 0</th>\n",
       "      <th>song_id</th>\n",
       "      <th>song_name</th>\n",
       "      <th>artist_id</th>\n",
       "      <th>artist_name</th>\n",
       "      <th>song_genre</th>\n",
       "      <th>album_name</th>\n",
       "      <th>album_id</th>\n",
       "      <th>issue_date</th>\n",
       "    </tr>\n",
       "  </thead>\n",
       "  <tbody>\n",
       "    <tr>\n",
       "      <th>37748</th>\n",
       "      <td>37748</td>\n",
       "      <td>37748</td>\n",
       "      <td>너였다면</td>\n",
       "      <td>[792091]</td>\n",
       "      <td>정승환</td>\n",
       "      <td>['GN1500', 'GN0100']</td>\n",
       "      <td>또 오해영 OST Part.5</td>\n",
       "      <td>2687963</td>\n",
       "      <td>20160531</td>\n",
       "    </tr>\n",
       "  </tbody>\n",
       "</table>"
      ],
      "text/plain": [
       "<IPython.core.display.HTML object>"
      ]
     },
     "metadata": {},
     "output_type": "display_data"
    },
    {
     "name": "stdout",
     "output_type": "stream",
     "text": [
      "원하시는 곡이 있습니까? 있다면 Y, 없다면 N\n",
      "Y\n",
      "\n",
      "곡의 번호를 입력해주세요\n",
      "37748\n",
      "너였다면이 당신의 리스트에 추가되었습니다\n",
      "다음 곡을 골라주세요.\n",
      "\n",
      "\n",
      "피땀\n"
     ]
    },
    {
     "data": {
      "text/html": [
       "<table border=\"1\" class=\"dataframe\">\n",
       "  <thead>\n",
       "    <tr style=\"text-align: right;\">\n",
       "      <th></th>\n",
       "      <th>Unnamed: 0</th>\n",
       "      <th>song_id</th>\n",
       "      <th>song_name</th>\n",
       "      <th>artist_id</th>\n",
       "      <th>artist_name</th>\n",
       "      <th>song_genre</th>\n",
       "      <th>album_name</th>\n",
       "      <th>album_id</th>\n",
       "      <th>issue_date</th>\n",
       "    </tr>\n",
       "  </thead>\n",
       "  <tbody>\n",
       "  </tbody>\n",
       "</table>"
      ],
      "text/plain": [
       "<IPython.core.display.HTML object>"
      ]
     },
     "metadata": {},
     "output_type": "display_data"
    },
    {
     "name": "stdout",
     "output_type": "stream",
     "text": [
      "원하시는 곡이 있습니까? 있다면 Y, 없다면 N\n",
      "N\n",
      "다른 노래를 입력해주세요.\n",
      "피 땀\n"
     ]
    },
    {
     "data": {
      "text/html": [
       "<table border=\"1\" class=\"dataframe\">\n",
       "  <thead>\n",
       "    <tr style=\"text-align: right;\">\n",
       "      <th></th>\n",
       "      <th>Unnamed: 0</th>\n",
       "      <th>song_id</th>\n",
       "      <th>song_name</th>\n",
       "      <th>artist_id</th>\n",
       "      <th>artist_name</th>\n",
       "      <th>song_genre</th>\n",
       "      <th>album_name</th>\n",
       "      <th>album_id</th>\n",
       "      <th>issue_date</th>\n",
       "    </tr>\n",
       "  </thead>\n",
       "  <tbody>\n",
       "    <tr>\n",
       "      <th>23360</th>\n",
       "      <td>23360</td>\n",
       "      <td>23360</td>\n",
       "      <td>피 땀 눈물</td>\n",
       "      <td>[672375]</td>\n",
       "      <td>방탄소년단</td>\n",
       "      <td>['GN2500', 'GN0300']</td>\n",
       "      <td>YOU NEVER WALK ALONE</td>\n",
       "      <td>10037969</td>\n",
       "      <td>20170213</td>\n",
       "    </tr>\n",
       "  </tbody>\n",
       "</table>"
      ],
      "text/plain": [
       "<IPython.core.display.HTML object>"
      ]
     },
     "metadata": {},
     "output_type": "display_data"
    },
    {
     "name": "stdout",
     "output_type": "stream",
     "text": [
      "원하시는 곡이 있습니까? 있다면 Y, 없다면 N\n",
      "Y\n",
      "\n",
      "곡의 번호를 입력해주세요\n",
      "23360\n",
      "피 땀 눈물이 당신의 리스트에 추가되었습니다\n",
      "다음 곡을 골라주세요.\n",
      "\n",
      "\n",
      "나의 사춘기에게\n"
     ]
    },
    {
     "data": {
      "text/html": [
       "<table border=\"1\" class=\"dataframe\">\n",
       "  <thead>\n",
       "    <tr style=\"text-align: right;\">\n",
       "      <th></th>\n",
       "      <th>Unnamed: 0</th>\n",
       "      <th>song_id</th>\n",
       "      <th>song_name</th>\n",
       "      <th>artist_id</th>\n",
       "      <th>artist_name</th>\n",
       "      <th>song_genre</th>\n",
       "      <th>album_name</th>\n",
       "      <th>album_id</th>\n",
       "      <th>issue_date</th>\n",
       "    </tr>\n",
       "  </thead>\n",
       "  <tbody>\n",
       "    <tr>\n",
       "      <th>116114</th>\n",
       "      <td>116114</td>\n",
       "      <td>116114</td>\n",
       "      <td>나의 사춘기에게</td>\n",
       "      <td>[792022]</td>\n",
       "      <td>볼빨간사춘기</td>\n",
       "      <td>['GN0500', 'GN0800']</td>\n",
       "      <td>Red Diary Page.1</td>\n",
       "      <td>10100191</td>\n",
       "      <td>20170928</td>\n",
       "    </tr>\n",
       "  </tbody>\n",
       "</table>"
      ],
      "text/plain": [
       "<IPython.core.display.HTML object>"
      ]
     },
     "metadata": {},
     "output_type": "display_data"
    },
    {
     "name": "stdout",
     "output_type": "stream",
     "text": [
      "원하시는 곡이 있습니까? 있다면 Y, 없다면 N\n",
      "Y\n",
      "\n",
      "곡의 번호를 입력해주세요\n",
      "116114\n",
      "나의 사춘기에게이 당신의 리스트에 추가되었습니다\n",
      "다음 곡을 골라주세요.\n",
      "\n",
      "\n",
      "너를 만나\n"
     ]
    },
    {
     "data": {
      "text/html": [
       "<table border=\"1\" class=\"dataframe\">\n",
       "  <thead>\n",
       "    <tr style=\"text-align: right;\">\n",
       "      <th></th>\n",
       "      <th>Unnamed: 0</th>\n",
       "      <th>song_id</th>\n",
       "      <th>song_name</th>\n",
       "      <th>artist_id</th>\n",
       "      <th>artist_name</th>\n",
       "      <th>song_genre</th>\n",
       "      <th>album_name</th>\n",
       "      <th>album_id</th>\n",
       "      <th>issue_date</th>\n",
       "    </tr>\n",
       "  </thead>\n",
       "  <tbody>\n",
       "    <tr>\n",
       "      <th>127765</th>\n",
       "      <td>127765</td>\n",
       "      <td>127765</td>\n",
       "      <td>너를 만나</td>\n",
       "      <td>[744783]</td>\n",
       "      <td>제이 리</td>\n",
       "      <td>['GN1800']</td>\n",
       "      <td>너를 만나</td>\n",
       "      <td>10331712</td>\n",
       "      <td>20190925</td>\n",
       "    </tr>\n",
       "    <tr>\n",
       "      <th>144407</th>\n",
       "      <td>144407</td>\n",
       "      <td>144407</td>\n",
       "      <td>너를 만나 (Feat. 백지웅)</td>\n",
       "      <td>[570731]</td>\n",
       "      <td>정키</td>\n",
       "      <td>['GN0100']</td>\n",
       "      <td>EMOTION</td>\n",
       "      <td>2258502</td>\n",
       "      <td>20140529</td>\n",
       "    </tr>\n",
       "    <tr>\n",
       "      <th>145922</th>\n",
       "      <td>145922</td>\n",
       "      <td>145922</td>\n",
       "      <td>너를 만나러 가는 길</td>\n",
       "      <td>[420701]</td>\n",
       "      <td>달콤한 소금</td>\n",
       "      <td>['GN0500', 'GN0800']</td>\n",
       "      <td>달무지개</td>\n",
       "      <td>2016808</td>\n",
       "      <td>20110930</td>\n",
       "    </tr>\n",
       "    <tr>\n",
       "      <th>199510</th>\n",
       "      <td>199510</td>\n",
       "      <td>199510</td>\n",
       "      <td>너를 만나러 가는 날엔</td>\n",
       "      <td>[859066]</td>\n",
       "      <td>뉴피아노</td>\n",
       "      <td>['GN1800']</td>\n",
       "      <td>Beautiful Day</td>\n",
       "      <td>2705172</td>\n",
       "      <td>20160819</td>\n",
       "    </tr>\n",
       "    <tr>\n",
       "      <th>241661</th>\n",
       "      <td>241661</td>\n",
       "      <td>241661</td>\n",
       "      <td>오늘, 너를 만나고</td>\n",
       "      <td>[26006]</td>\n",
       "      <td>최인영</td>\n",
       "      <td>['GN1800']</td>\n",
       "      <td>뉴에이지 베스트 콜렉션 Vol.2</td>\n",
       "      <td>1307263</td>\n",
       "      <td>20110615</td>\n",
       "    </tr>\n",
       "    <tr>\n",
       "      <th>322491</th>\n",
       "      <td>322491</td>\n",
       "      <td>322491</td>\n",
       "      <td>너를 만나</td>\n",
       "      <td>[752425]</td>\n",
       "      <td>폴킴</td>\n",
       "      <td>['GN0100']</td>\n",
       "      <td>너를 만나</td>\n",
       "      <td>10217134</td>\n",
       "      <td>20181029</td>\n",
       "    </tr>\n",
       "    <tr>\n",
       "      <th>595458</th>\n",
       "      <td>595458</td>\n",
       "      <td>595458</td>\n",
       "      <td>너를 만나러 가다 (Feat. 투피아노, 김나영)</td>\n",
       "      <td>[769094]</td>\n",
       "      <td>Sentimental Robot</td>\n",
       "      <td>['GN0100']</td>\n",
       "      <td>너를 만나러 가다</td>\n",
       "      <td>2249171</td>\n",
       "      <td>20140407</td>\n",
       "    </tr>\n",
       "    <tr>\n",
       "      <th>617427</th>\n",
       "      <td>617427</td>\n",
       "      <td>617427</td>\n",
       "      <td>너를 만나러 간다 (The day we meet again)</td>\n",
       "      <td>[205880]</td>\n",
       "      <td>규현 (KYUHYUN)</td>\n",
       "      <td>['GN2500', 'GN0100']</td>\n",
       "      <td>너를 만나러 간다 (The day we meet again)</td>\n",
       "      <td>10287086</td>\n",
       "      <td>20190520</td>\n",
       "    </tr>\n",
       "  </tbody>\n",
       "</table>"
      ],
      "text/plain": [
       "<IPython.core.display.HTML object>"
      ]
     },
     "metadata": {},
     "output_type": "display_data"
    },
    {
     "name": "stdout",
     "output_type": "stream",
     "text": [
      "원하시는 곡이 있습니까? 있다면 Y, 없다면 N\n",
      "Y\n",
      "\n",
      "곡의 번호를 입력해주세요\n",
      "322491\n",
      "너를 만나이 당신의 리스트에 추가되었습니다\n",
      "다음 곡을 골라주세요.\n",
      "\n",
      "\n",
      "처음처럼\n"
     ]
    },
    {
     "data": {
      "text/html": [
       "<table border=\"1\" class=\"dataframe\">\n",
       "  <thead>\n",
       "    <tr style=\"text-align: right;\">\n",
       "      <th></th>\n",
       "      <th>Unnamed: 0</th>\n",
       "      <th>song_id</th>\n",
       "      <th>song_name</th>\n",
       "      <th>artist_id</th>\n",
       "      <th>artist_name</th>\n",
       "      <th>song_genre</th>\n",
       "      <th>album_name</th>\n",
       "      <th>album_id</th>\n",
       "      <th>issue_date</th>\n",
       "    </tr>\n",
       "  </thead>\n",
       "  <tbody>\n",
       "    <tr>\n",
       "      <th>72499</th>\n",
       "      <td>72499</td>\n",
       "      <td>72499</td>\n",
       "      <td>처음처럼</td>\n",
       "      <td>[161636]</td>\n",
       "      <td>엠씨더맥스 (M.C the MAX)</td>\n",
       "      <td>['GN0100']</td>\n",
       "      <td>CEREMONIA</td>\n",
       "      <td>10408131</td>\n",
       "      <td>20200325</td>\n",
       "    </tr>\n",
       "    <tr>\n",
       "      <th>88249</th>\n",
       "      <td>88249</td>\n",
       "      <td>88249</td>\n",
       "      <td>처음처럼 사랑하길 바라고 있어</td>\n",
       "      <td>[424945]</td>\n",
       "      <td>에스프레소</td>\n",
       "      <td>['GN0100']</td>\n",
       "      <td>좋은 느낌이 있어 너와 함께 있을 땐</td>\n",
       "      <td>2198949</td>\n",
       "      <td>20130830</td>\n",
       "    </tr>\n",
       "    <tr>\n",
       "      <th>148917</th>\n",
       "      <td>148917</td>\n",
       "      <td>148917</td>\n",
       "      <td>처음처럼</td>\n",
       "      <td>[3305]</td>\n",
       "      <td>성시경</td>\n",
       "      <td>['GN0100']</td>\n",
       "      <td>처음처럼</td>\n",
       "      <td>2138</td>\n",
       "      <td>20010400</td>\n",
       "    </tr>\n",
       "    <tr>\n",
       "      <th>184658</th>\n",
       "      <td>184658</td>\n",
       "      <td>184658</td>\n",
       "      <td>처음처럼 그때처럼 (Feat. 강민경 From Davichi)</td>\n",
       "      <td>[58793]</td>\n",
       "      <td>이승기</td>\n",
       "      <td>['GN0100']</td>\n",
       "      <td>처음처럼 그때처럼</td>\n",
       "      <td>750153</td>\n",
       "      <td>20091222</td>\n",
       "    </tr>\n",
       "    <tr>\n",
       "      <th>219000</th>\n",
       "      <td>219000</td>\n",
       "      <td>219000</td>\n",
       "      <td>여전히 헤어짐은 처음처럼 아파서</td>\n",
       "      <td>[25]</td>\n",
       "      <td>신승훈</td>\n",
       "      <td>['GN0100']</td>\n",
       "      <td>MY PERSONAS</td>\n",
       "      <td>10403337</td>\n",
       "      <td>20200408</td>\n",
       "    </tr>\n",
       "    <tr>\n",
       "      <th>245491</th>\n",
       "      <td>245491</td>\n",
       "      <td>245491</td>\n",
       "      <td>처음처럼</td>\n",
       "      <td>[412000]</td>\n",
       "      <td>티아라</td>\n",
       "      <td>['GN2500', 'GN0200']</td>\n",
       "      <td>Breaking Heart (Repackage)</td>\n",
       "      <td>809262</td>\n",
       "      <td>20100223</td>\n",
       "    </tr>\n",
       "    <tr>\n",
       "      <th>468261</th>\n",
       "      <td>468261</td>\n",
       "      <td>468261</td>\n",
       "      <td>처음처럼 (Feat. July)</td>\n",
       "      <td>[322766]</td>\n",
       "      <td>메이다니 (MAYDONI)</td>\n",
       "      <td>['GN0100']</td>\n",
       "      <td>7 Teen (Single)</td>\n",
       "      <td>470352</td>\n",
       "      <td>20090115</td>\n",
       "    </tr>\n",
       "  </tbody>\n",
       "</table>"
      ],
      "text/plain": [
       "<IPython.core.display.HTML object>"
      ]
     },
     "metadata": {},
     "output_type": "display_data"
    },
    {
     "name": "stdout",
     "output_type": "stream",
     "text": [
      "원하시는 곡이 있습니까? 있다면 Y, 없다면 N\n",
      "N\n",
      "다른 노래를 입력해주세요.\n",
      "폰서트\n"
     ]
    },
    {
     "data": {
      "text/html": [
       "<table border=\"1\" class=\"dataframe\">\n",
       "  <thead>\n",
       "    <tr style=\"text-align: right;\">\n",
       "      <th></th>\n",
       "      <th>Unnamed: 0</th>\n",
       "      <th>song_id</th>\n",
       "      <th>song_name</th>\n",
       "      <th>artist_id</th>\n",
       "      <th>artist_name</th>\n",
       "      <th>song_genre</th>\n",
       "      <th>album_name</th>\n",
       "      <th>album_id</th>\n",
       "      <th>issue_date</th>\n",
       "    </tr>\n",
       "  </thead>\n",
       "  <tbody>\n",
       "    <tr>\n",
       "      <th>102980</th>\n",
       "      <td>102980</td>\n",
       "      <td>102980</td>\n",
       "      <td>폰서트</td>\n",
       "      <td>[468244]</td>\n",
       "      <td>10CM</td>\n",
       "      <td>['GN0500', 'GN0800']</td>\n",
       "      <td>4.0</td>\n",
       "      <td>10093077</td>\n",
       "      <td>20170901</td>\n",
       "    </tr>\n",
       "  </tbody>\n",
       "</table>"
      ],
      "text/plain": [
       "<IPython.core.display.HTML object>"
      ]
     },
     "metadata": {},
     "output_type": "display_data"
    },
    {
     "name": "stdout",
     "output_type": "stream",
     "text": [
      "원하시는 곡이 있습니까? 있다면 Y, 없다면 N\n",
      "Y\n",
      "\n",
      "곡의 번호를 입력해주세요\n",
      "102980\n",
      "폰서트이 당신의 리스트에 추가되었습니다\n",
      "다음 곡을 골라주세요.\n",
      "\n",
      "\n",
      "다음 음악들이 추천의 재료로 들어갑니다! ['너였다면', '피 땀 눈물', '나의 사춘기에게', '너를 만나', '폰서트']\n"
     ]
    },
    {
     "data": {
      "text/plain": [
       "[37748, 23360, 116114, 322491, 102980]"
      ]
     },
     "execution_count": 8,
     "metadata": {},
     "output_type": "execute_result"
    }
   ],
   "source": [
    "model.input_generator(5)"
   ]
  },
  {
   "cell_type": "code",
   "execution_count": 9,
   "metadata": {
    "hidden": true
   },
   "outputs": [
    {
     "name": "stdout",
     "output_type": "stream",
     "text": [
      "노래가 생성중입니다.. 잠시만 기다려주세요..\n",
      "\n",
      "노래가 선택되었습니다! 추출중입니다..\n",
      "김선우님. 오늘은 이런 음악 어떠세요?\n"
     ]
    },
    {
     "data": {
      "text/html": [
       "<div>\n",
       "<style scoped>\n",
       "    .dataframe tbody tr th:only-of-type {\n",
       "        vertical-align: middle;\n",
       "    }\n",
       "\n",
       "    .dataframe tbody tr th {\n",
       "        vertical-align: top;\n",
       "    }\n",
       "\n",
       "    .dataframe thead th {\n",
       "        text-align: right;\n",
       "    }\n",
       "</style>\n",
       "<table border=\"1\" class=\"dataframe\">\n",
       "  <thead>\n",
       "    <tr style=\"text-align: right;\">\n",
       "      <th></th>\n",
       "      <th>Unnamed: 0</th>\n",
       "      <th>song_id</th>\n",
       "      <th>song_name</th>\n",
       "      <th>artist_id</th>\n",
       "      <th>artist_name</th>\n",
       "      <th>song_genre</th>\n",
       "      <th>album_name</th>\n",
       "      <th>album_id</th>\n",
       "      <th>issue_date</th>\n",
       "    </tr>\n",
       "  </thead>\n",
       "  <tbody>\n",
       "    <tr>\n",
       "      <th>144663</th>\n",
       "      <td>144663</td>\n",
       "      <td>144663</td>\n",
       "      <td>밤편지</td>\n",
       "      <td>[261143]</td>\n",
       "      <td>아이유</td>\n",
       "      <td>['GN0100']</td>\n",
       "      <td>밤편지</td>\n",
       "      <td>10047890</td>\n",
       "      <td>20170324</td>\n",
       "    </tr>\n",
       "    <tr>\n",
       "      <th>165454</th>\n",
       "      <td>165454</td>\n",
       "      <td>165454</td>\n",
       "      <td>모든 날, 모든 순간 (Every day, Every Moment)</td>\n",
       "      <td>[752425]</td>\n",
       "      <td>폴킴</td>\n",
       "      <td>['GN0100']</td>\n",
       "      <td>`키스 먼저 할까요?` OST</td>\n",
       "      <td>10163394</td>\n",
       "      <td>20180502</td>\n",
       "    </tr>\n",
       "    <tr>\n",
       "      <th>288869</th>\n",
       "      <td>288869</td>\n",
       "      <td>288869</td>\n",
       "      <td>DNA</td>\n",
       "      <td>[672375]</td>\n",
       "      <td>방탄소년단</td>\n",
       "      <td>['GN2500', 'GN0300']</td>\n",
       "      <td>LOVE YOURSELF 結 `Answer`</td>\n",
       "      <td>10197480</td>\n",
       "      <td>20180824</td>\n",
       "    </tr>\n",
       "    <tr>\n",
       "      <th>305045</th>\n",
       "      <td>305045</td>\n",
       "      <td>305045</td>\n",
       "      <td>가을 아침</td>\n",
       "      <td>[261143]</td>\n",
       "      <td>아이유</td>\n",
       "      <td>['GN0800']</td>\n",
       "      <td>꽃갈피 둘</td>\n",
       "      <td>10096855</td>\n",
       "      <td>20170922</td>\n",
       "    </tr>\n",
       "    <tr>\n",
       "      <th>362966</th>\n",
       "      <td>362966</td>\n",
       "      <td>362966</td>\n",
       "      <td>봄날</td>\n",
       "      <td>[672375]</td>\n",
       "      <td>방탄소년단</td>\n",
       "      <td>['GN2500', 'GN0300']</td>\n",
       "      <td>YOU NEVER WALK ALONE</td>\n",
       "      <td>10037969</td>\n",
       "      <td>20170213</td>\n",
       "    </tr>\n",
       "    <tr>\n",
       "      <th>449244</th>\n",
       "      <td>449244</td>\n",
       "      <td>449244</td>\n",
       "      <td>스토커</td>\n",
       "      <td>[468244]</td>\n",
       "      <td>10CM</td>\n",
       "      <td>['GN0500', 'GN0800']</td>\n",
       "      <td>3.0</td>\n",
       "      <td>2290452</td>\n",
       "      <td>20141119</td>\n",
       "    </tr>\n",
       "    <tr>\n",
       "      <th>478754</th>\n",
       "      <td>478754</td>\n",
       "      <td>478754</td>\n",
       "      <td>선물</td>\n",
       "      <td>[839732]</td>\n",
       "      <td>멜로망스</td>\n",
       "      <td>['GN0500', 'GN0100']</td>\n",
       "      <td>Moonlight</td>\n",
       "      <td>10078176</td>\n",
       "      <td>20170710</td>\n",
       "    </tr>\n",
       "    <tr>\n",
       "      <th>485640</th>\n",
       "      <td>485640</td>\n",
       "      <td>485640</td>\n",
       "      <td>열애중</td>\n",
       "      <td>[655051]</td>\n",
       "      <td>벤</td>\n",
       "      <td>['GN0100']</td>\n",
       "      <td>RECIPE</td>\n",
       "      <td>10164839</td>\n",
       "      <td>20180508</td>\n",
       "    </tr>\n",
       "    <tr>\n",
       "      <th>516653</th>\n",
       "      <td>516653</td>\n",
       "      <td>516653</td>\n",
       "      <td>노력</td>\n",
       "      <td>[41499]</td>\n",
       "      <td>박원</td>\n",
       "      <td>['GN0100']</td>\n",
       "      <td>1/24</td>\n",
       "      <td>10016012</td>\n",
       "      <td>20161117</td>\n",
       "    </tr>\n",
       "    <tr>\n",
       "      <th>531820</th>\n",
       "      <td>531820</td>\n",
       "      <td>531820</td>\n",
       "      <td>한숨</td>\n",
       "      <td>[646171]</td>\n",
       "      <td>이하이</td>\n",
       "      <td>['GN0400']</td>\n",
       "      <td>SEOULITE</td>\n",
       "      <td>2671866</td>\n",
       "      <td>20160309</td>\n",
       "    </tr>\n",
       "  </tbody>\n",
       "</table>\n",
       "</div>"
      ],
      "text/plain": [
       "        Unnamed: 0  song_id                              song_name artist_id  \\\n",
       "144663      144663   144663                                    밤편지  [261143]   \n",
       "165454      165454   165454  모든 날, 모든 순간 (Every day, Every Moment)  [752425]   \n",
       "288869      288869   288869                                    DNA  [672375]   \n",
       "305045      305045   305045                                  가을 아침  [261143]   \n",
       "362966      362966   362966                                     봄날  [672375]   \n",
       "449244      449244   449244                                    스토커  [468244]   \n",
       "478754      478754   478754                                     선물  [839732]   \n",
       "485640      485640   485640                                    열애중  [655051]   \n",
       "516653      516653   516653                                     노력   [41499]   \n",
       "531820      531820   531820                                     한숨  [646171]   \n",
       "\n",
       "       artist_name            song_genre                album_name  album_id  \\\n",
       "144663         아이유            ['GN0100']                       밤편지  10047890   \n",
       "165454          폴킴            ['GN0100']          `키스 먼저 할까요?` OST  10163394   \n",
       "288869       방탄소년단  ['GN2500', 'GN0300']  LOVE YOURSELF 結 `Answer`  10197480   \n",
       "305045         아이유            ['GN0800']                     꽃갈피 둘  10096855   \n",
       "362966       방탄소년단  ['GN2500', 'GN0300']      YOU NEVER WALK ALONE  10037969   \n",
       "449244        10CM  ['GN0500', 'GN0800']                       3.0   2290452   \n",
       "478754        멜로망스  ['GN0500', 'GN0100']                 Moonlight  10078176   \n",
       "485640           벤            ['GN0100']                    RECIPE  10164839   \n",
       "516653          박원            ['GN0100']                      1/24  10016012   \n",
       "531820         이하이            ['GN0400']                  SEOULITE   2671866   \n",
       "\n",
       "        issue_date  \n",
       "144663    20170324  \n",
       "165454    20180502  \n",
       "288869    20180824  \n",
       "305045    20170922  \n",
       "362966    20170213  \n",
       "449244    20141119  \n",
       "478754    20170710  \n",
       "485640    20180508  \n",
       "516653    20161117  \n",
       "531820    20160309  "
      ]
     },
     "execution_count": 9,
     "metadata": {},
     "output_type": "execute_result"
    }
   ],
   "source": [
    "model.prediction_generator(10)"
   ]
  }
 ],
 "metadata": {
  "kernelspec": {
   "display_name": "Python 3",
   "language": "python",
   "name": "python3"
  },
  "language_info": {
   "codemirror_mode": {
    "name": "ipython",
    "version": 3
   },
   "file_extension": ".py",
   "mimetype": "text/x-python",
   "name": "python",
   "nbconvert_exporter": "python",
   "pygments_lexer": "ipython3",
   "version": "3.8.5"
  },
  "latex_envs": {
   "LaTeX_envs_menu_present": true,
   "autoclose": false,
   "autocomplete": true,
   "bibliofile": "biblio.bib",
   "cite_by": "apalike",
   "current_citInitial": 1,
   "eqLabelWithNumbers": true,
   "eqNumInitial": 1,
   "hotkeys": {
    "equation": "Ctrl-E",
    "itemize": "Ctrl-I"
   },
   "labels_anchors": false,
   "latex_user_defs": false,
   "report_style_numbering": false,
   "user_envs_cfg": false
  }
 },
 "nbformat": 4,
 "nbformat_minor": 4
}
